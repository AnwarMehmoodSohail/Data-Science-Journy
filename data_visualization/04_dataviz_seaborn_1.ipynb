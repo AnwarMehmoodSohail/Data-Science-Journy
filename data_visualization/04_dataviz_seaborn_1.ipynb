{
 "cells": [
  {
   "cell_type": "markdown",
   "metadata": {},
   "source": [
    "# _**Data Visualization**_ \n",
    "# _**Basic Plots Using Seaborn Part 2**_"
   ]
  },
  {
   "cell_type": "markdown",
   "metadata": {},
   "source": [
    "Author: Anwar Mehmood Sohail\\\n",
    "Date: 31 October, 2023\\\n",
    "Email: anwarmehmood.sohail@gmail.com\n",
    "\n",
    "#dataviz #datavisualization #codanics"
   ]
  },
  {
   "cell_type": "markdown",
   "metadata": {},
   "source": [
    "We will see following plots in this notebook\n",
    "\n",
    "- Relational Plot\n",
    "- Distribution Plot\n",
    "- Categorical Plot\n",
    "- Regression Plot\n",
    "- Matrix Plot\n",
    "- Multiplots"
   ]
  },
  {
   "cell_type": "markdown",
   "metadata": {},
   "source": [
    "> Import Libraries"
   ]
  },
  {
   "cell_type": "code",
   "execution_count": 3,
   "metadata": {},
   "outputs": [],
   "source": [
    "# Import libararies\n",
    "import pandas as pd\n",
    "import numpy as np\n",
    "import matplotlib.pyplot as plt\n",
    "import seaborn as sns"
   ]
  },
  {
   "cell_type": "code",
   "execution_count": null,
   "metadata": {},
   "outputs": [],
   "source": []
  }
 ],
 "metadata": {
  "kernelspec": {
   "display_name": "python_eda",
   "language": "python",
   "name": "python3"
  },
  "language_info": {
   "codemirror_mode": {
    "name": "ipython",
    "version": 3
   },
   "file_extension": ".py",
   "mimetype": "text/x-python",
   "name": "python",
   "nbconvert_exporter": "python",
   "pygments_lexer": "ipython3",
   "version": "3.11.5"
  }
 },
 "nbformat": 4,
 "nbformat_minor": 2
}
