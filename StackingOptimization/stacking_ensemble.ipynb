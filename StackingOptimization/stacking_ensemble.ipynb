{
 "cells": [
  {
   "cell_type": "code",
   "execution_count": 20,
   "metadata": {},
   "outputs": [],
   "source": [
    "import numpy as np\n",
    "import pandas as pd\n",
    "from sklearn.model_selection import train_test_split\n",
    "from sklearn.preprocessing import StandardScaler, LabelEncoder\n",
    "from sklearn.ensemble import RandomForestClassifier\n",
    "from sklearn.linear_model import LogisticRegression\n",
    "from sklearn.neighbors import KNeighborsClassifier\n",
    "from sklearn.naive_bayes import GaussianNB\n",
    "from sklearn.metrics import accuracy_score, precision_score, recall_score, f1_score\n",
    "from sklearn.ensemble import StackingClassifier\n",
    "from sklearn.feature_selection import RFE\n",
    "import joblib"
   ]
  },
  {
   "cell_type": "code",
   "execution_count": 22,
   "metadata": {},
   "outputs": [],
   "source": [
    "# Load the dataset\n",
    "data = pd.read_csv('c:/Users/USER/Documents/Data Science Journy/StackingOptimization/driving_data.csv')\n",
    "\n",
    "# Assume target variable is in between, adjust accordingly\n",
    "target_column = 'Class'  # Replace with the actual target column name\n",
    "X = data.drop(columns=[target_column])  # Features\n",
    "y = data[target_column]   # Target (Driver ID)\n",
    "\n",
    "# Encode target labels\n",
    "label_encoder = LabelEncoder()\n",
    "y = label_encoder.fit_transform(y)\n",
    "\n",
    "# Split the dataset into training and testing sets\n",
    "X_train, X_test, y_train, y_test = train_test_split(X, y, test_size=0.2, random_state=42)\n",
    "\n",
    "# Standardize the features\n",
    "scaler = StandardScaler()\n",
    "X_train = scaler.fit_transform(X_train)\n",
    "X_test = scaler.transform(X_test)"
   ]
  },
  {
   "cell_type": "code",
   "execution_count": 23,
   "metadata": {},
   "outputs": [
    {
     "name": "stdout",
     "output_type": "stream",
     "text": [
      "Selected Features: [False False False False  True False  True  True False False False  True\n",
      " False False  True False False False False False False False  True False\n",
      " False False False False False False False False False False  True  True\n",
      " False False False False False False False False False False False False\n",
      " False False False  True  True]\n",
      "Selected Feature Names: ['Intake_air_pressure', 'Absolute_throttle_position', 'Engine_soacking_time', 'Long_Term_Fuel_Trim_Bank1', 'Torque_of_friction', 'Maximum_indicated_engine_torque', 'Engine_coolant_temperature.1', 'Wheel_velocity_front_left-hand', 'Time(s)', 'PathOrder']\n"
     ]
    }
   ],
   "source": [
    "# Feature Selection using Recursive Feature Elimination (RFE) with Random Forest\n",
    "# Use Random Forest as the base model for RFE\n",
    "base_model_for_rfe = RandomForestClassifier(n_estimators=100, random_state=42)\n",
    "\n",
    "# Specify the number of features to select\n",
    "n_features_to_select = 10  # You can adjust this based on your dataset\n",
    "\n",
    "# Initialize RFE\n",
    "rfe = RFE(estimator=base_model_for_rfe, n_features_to_select=n_features_to_select)\n",
    "\n",
    "# Fit RFE on the training data\n",
    "X_train_rfe = rfe.fit_transform(X_train, y_train)\n",
    "X_test_rfe = rfe.transform(X_test)\n",
    "\n",
    "# Get the selected feature indices\n",
    "selected_features = rfe.support_\n",
    "print(\"Selected Features:\", selected_features)\n",
    "\n",
    "# Print the names of the selected features (if feature names are available)\n",
    "feature_names = X.columns  # Use correct feature names\n",
    "selected_feature_names = feature_names[selected_features]\n",
    "print(\"Selected Feature Names:\", selected_feature_names.tolist())"
   ]
  },
  {
   "cell_type": "code",
   "execution_count": null,
   "metadata": {},
   "outputs": [],
   "source": [
    "# Define base models for stacking\n",
    "base_models = [\n",
    "    ('rf', RandomForestClassifier(n_estimators=100, random_state=42)),\n",
    "    ('lr', LogisticRegression()),\n",
    "    ('knn', KNeighborsClassifier(n_neighbors=5)),\n",
    "    ('nb', GaussianNB())\n",
    "]\n",
    "\n",
    "# Define meta-classifier\n",
    "meta_classifier = LogisticRegression()\n",
    "\n",
    "# Create the stacking ensemble classifier\n",
    "stacking_classifier = StackingClassifier(estimators=base_models, final_estimator=meta_classifier, cv=5)\n",
    "\n",
    "# Train the stacking classifier on the selected features\n",
    "stacking_classifier.fit(X_train_rfe, y_train)\n",
    "\n",
    "# Make predictions on the test set\n",
    "y_pred = stacking_classifier.predict(X_test_rfe)\n",
    "\n",
    "# Evaluate the model\n",
    "accuracy = accuracy_score(y_test, y_pred)\n",
    "precision = precision_score(y_test, y_pred, average='weighted')\n",
    "recall = recall_score(y_test, y_pred, average='weighted')\n",
    "f1 = f1_score(y_test, y_pred, average='weighted')\n",
    "\n",
    "print(f'Accuracy after RFE: {accuracy * 100:.2f}%')\n",
    "print(f'Precision: {precision:.4f}')\n",
    "print(f'Recall: {recall:.4f}')\n",
    "print(f'F1 Score: {f1:.4f}')"
   ]
  }
 ],
 "metadata": {
  "kernelspec": {
   "display_name": "Python 3",
   "language": "python",
   "name": "python3"
  },
  "language_info": {
   "codemirror_mode": {
    "name": "ipython",
    "version": 3
   },
   "file_extension": ".py",
   "mimetype": "text/x-python",
   "name": "python",
   "nbconvert_exporter": "python",
   "pygments_lexer": "ipython3",
   "version": "3.12.0"
  }
 },
 "nbformat": 4,
 "nbformat_minor": 2
}
